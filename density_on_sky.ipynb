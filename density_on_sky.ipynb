{
 "cells": [
  {
   "cell_type": "code",
   "execution_count": 1,
   "metadata": {},
   "outputs": [],
   "source": [
    "import healpy as hp\n",
    "import numpy as np\n",
    "import os\n",
    "from lsst.daf.persistence import Butler\n",
    "repo_dir = '/datasets/hsc/repo/rerun/DM-13666/DEEP'\n",
    "butler = Butler(repo_dir)\n",
    "#/datasets/hsc/repo/rerun/DM-13666/DEEP/deepCoadd-results/HSC-R"
   ]
  },
  {
   "cell_type": "code",
   "execution_count": 2,
   "metadata": {},
   "outputs": [
    {
     "name": "stdout",
     "output_type": "stream",
     "text": [
      "resolution 1.311396e-02 sq degrees\n"
     ]
    }
   ],
   "source": [
    "nside = 512\n",
    "npix = hp.nside2npix(nside)\n",
    "print('resolution %e sq degrees' % (4.0*np.pi*(180.0/np.pi)**2/npix))"
   ]
  },
  {
   "cell_type": "code",
   "execution_count": 3,
   "metadata": {},
   "outputs": [],
   "source": [
    "pixel_counts = np.zeros(npix, dtype=float)"
   ]
  },
  {
   "cell_type": "code",
   "execution_count": 4,
   "metadata": {},
   "outputs": [],
   "source": [
    "sky_map = butler.get('deepCoadd_skyMap')"
   ]
  },
  {
   "cell_type": "code",
   "execution_count": 5,
   "metadata": {},
   "outputs": [],
   "source": [
    "catalog_name = 'deepCoadd_forced_src'\n",
    "ref_name = 'deepCoadd_ref'\n",
    "filter_name = 'HSC-R'"
   ]
  },
  {
   "cell_type": "code",
   "execution_count": 6,
   "metadata": {},
   "outputs": [],
   "source": [
    "tract_root = os.path.join(repo_dir, 'deepCoadd-results', filter_name)\n",
    "tract_list = os.listdir(tract_root)\n",
    "tract_list = np.array(tract_list).astype(int)"
   ]
  },
  {
   "cell_type": "code",
   "execution_count": 9,
   "metadata": {},
   "outputs": [],
   "source": [
    "valid_data_id = []\n",
    "for tract_id in tract_list:\n",
    "    tract = sky_map[tract_id]\n",
    "    patches = tract.getNumPatches()\n",
    "    for ip1 in range(patches[0]):\n",
    "        for ip2 in range(patches[1]):\n",
    "            dataId = {'filter':filter_name,\n",
    "                      'tract':tract_id,\n",
    "                      'patch':'%d,%d' % (ip1, ip2)}\n",
    "            if not butler.datasetExists(catalog_name, dataId=dataId):\n",
    "                continue\n",
    "            else:\n",
    "                valid_data_id.append(dataId)"
   ]
  },
  {
   "cell_type": "code",
   "execution_count": 12,
   "metadata": {},
   "outputs": [],
   "source": [
    "ref_cat = butler.get(ref_name, dataId=valid_data_id[0])\n",
    "src_cat = butler.get(catalog_name, dataId=valid_data_id[0])"
   ]
  },
  {
   "cell_type": "code",
   "execution_count": 14,
   "metadata": {},
   "outputs": [
    {
     "data": {
      "text/plain": [
       "23340"
      ]
     },
     "execution_count": 14,
     "metadata": {},
     "output_type": "execute_result"
    }
   ],
   "source": [
    "len(ref_cat)"
   ]
  },
  {
   "cell_type": "code",
   "execution_count": 15,
   "metadata": {},
   "outputs": [
    {
     "data": {
      "text/plain": [
       "23340"
      ]
     },
     "execution_count": 15,
     "metadata": {},
     "output_type": "execute_result"
    }
   ],
   "source": [
    "len(src_cat)"
   ]
  },
  {
   "cell_type": "code",
   "execution_count": 17,
   "metadata": {},
   "outputs": [],
   "source": [
    "np.testing.assert_array_equal(ref_cat['coord_ra'], src_cat['coord_ra'])"
   ]
  },
  {
   "cell_type": "code",
   "execution_count": 18,
   "metadata": {},
   "outputs": [],
   "source": [
    "np.testing.assert_array_equal(ref_cat['coord_dec'], src_cat['coord_dec'])"
   ]
  },
  {
   "cell_type": "code",
   "execution_count": 19,
   "metadata": {},
   "outputs": [
    {
     "data": {
      "text/plain": [
       "array([False, False, False, ..., False, False, False])"
      ]
     },
     "execution_count": 19,
     "metadata": {},
     "output_type": "execute_result"
    }
   ],
   "source": [
    "ref_cat['detect_isPrimary']"
   ]
  },
  {
   "cell_type": "code",
   "execution_count": 43,
   "metadata": {},
   "outputs": [
    {
     "data": {
      "text/plain": [
       "SchemaItem(key=Key<D>(offset=896, nElements=1), field=Field['D'](name=\"base_PsfFlux_flux\", doc=\"flux derived from linear least-squares fit of PSF model\", units=\"count\"))"
      ]
     },
     "execution_count": 43,
     "metadata": {},
     "output_type": "execute_result"
    }
   ],
   "source": [
    "ref_cat.schema.find('base_PsfFlux_flux')"
   ]
  },
  {
   "cell_type": "code",
   "execution_count": 44,
   "metadata": {},
   "outputs": [],
   "source": [
    "#src_cat.schema.getNames()"
   ]
  },
  {
   "cell_type": "code",
   "execution_count": null,
   "metadata": {},
   "outputs": [],
   "source": [
    "src_val = src_cat['base_ClassificationExtendedness_value']\n",
    "ref_val = ref_cat['base_ClassificationExtendedness_value']\n",
    "flux_flag = ref_cat['modelfit_CModel_flag']\n",
    "src_psf_flux = src_cat['base_PsfFlux_flux']\n",
    "src_model_flux = src_cat['modelfit_CModel_flux']\n",
    "ref_psf_flux = ref_cat['base_PsfFlux_flux']\n",
    "ref_model_flux =ref_cat['modelfit_CModel_flux']\n",
    "\n",
    "src_ratio = src_psf_flux/src_model_flux\n",
    "ref_ratio = ref_psf_flux/ref_model_flux\n",
    "for ii in range(len(src_cat)):\n",
    "    if src_val[ii] != ref_val[ii] and not np.isnan(src_val[ii]) and \\\n",
    "    not np.isnan(ref_val[ii]):\n",
    "        print(src_val[ii], ref_val[ii],\n",
    "              src_ratio[ii], ref_ratio[ii])"
   ]
  },
  {
   "cell_type": "code",
   "execution_count": 46,
   "metadata": {},
   "outputs": [
    {
     "name": "stdout",
     "output_type": "stream",
     "text": [
      "Help on function ang2pix in module healpy.pixelfunc:\n",
      "\n",
      "ang2pix(nside, theta, phi, nest=False, lonlat=False)\n",
      "    ang2pix : nside,theta[rad],phi[rad],nest=False,lonlat=False -> ipix (default:RING)\n",
      "    \n",
      "    Parameters\n",
      "    ----------\n",
      "    nside : int, scalar or array-like\n",
      "      The healpix nside parameter, must be a power of 2, less than 2**30\n",
      "    theta, phi : float, scalars or array-like\n",
      "      Angular coordinates of a point on the sphere\n",
      "    nest : bool, optional\n",
      "      if True, assume NESTED pixel ordering, otherwise, RING pixel ordering\n",
      "    lonlat : bool\n",
      "      If True, input angles are assumed to be longitude and latitude in degree,\n",
      "      otherwise, they are co-latitude and longitude in radians.\n",
      "    \n",
      "    Returns\n",
      "    -------\n",
      "    pix : int or array of int\n",
      "      The healpix pixel numbers. Scalar if all input are scalar, array otherwise.\n",
      "      Usual numpy broadcasting rules apply.\n",
      "    \n",
      "    See Also\n",
      "    --------\n",
      "    pix2ang, pix2vec, vec2pix\n",
      "    \n",
      "    Examples\n",
      "    --------\n",
      "    >>> import healpy as hp\n",
      "    >>> hp.ang2pix(16, np.pi/2, 0)\n",
      "    1440\n",
      "    \n",
      "    >>> hp.ang2pix(16, [np.pi/2, np.pi/4, np.pi/2, 0, np.pi], [0., np.pi/4, np.pi/2, 0, 0])\n",
      "    array([1440,  427, 1520,    0, 3068])\n",
      "    \n",
      "    >>> hp.ang2pix(16, np.pi/2, [0, np.pi/2])\n",
      "    array([1440, 1520])\n",
      "    \n",
      "    >>> hp.ang2pix([1, 2, 4, 8, 16], np.pi/2, 0)\n",
      "    array([   4,   12,   72,  336, 1440])\n",
      "    \n",
      "    >>> hp.ang2pix([1, 2, 4, 8, 16], 0, 0, lonlat=True)\n",
      "    array([   4,   12,   72,  336, 1440])\n",
      "\n"
     ]
    }
   ],
   "source": [
    "help(hp.ang2pix)"
   ]
  },
  {
   "cell_type": "code",
   "execution_count": null,
   "metadata": {},
   "outputs": [
    {
     "name": "stdout",
     "output_type": "stream",
     "text": [
      "ran 10 of 1305 dataIds\n",
      "ran 20 of 1305 dataIds\n",
      "ran 30 of 1305 dataIds\n",
      "ran 40 of 1305 dataIds\n",
      "ran 50 of 1305 dataIds\n",
      "ran 60 of 1305 dataIds\n",
      "ran 70 of 1305 dataIds\n",
      "ran 80 of 1305 dataIds\n",
      "ran 90 of 1305 dataIds\n",
      "ran 100 of 1305 dataIds\n",
      "ran 110 of 1305 dataIds\n",
      "ran 120 of 1305 dataIds\n",
      "ran 130 of 1305 dataIds\n",
      "ran 140 of 1305 dataIds\n",
      "ran 150 of 1305 dataIds\n",
      "ran 160 of 1305 dataIds\n",
      "ran 170 of 1305 dataIds\n",
      "ran 180 of 1305 dataIds\n",
      "ran 190 of 1305 dataIds\n",
      "ran 200 of 1305 dataIds\n"
     ]
    }
   ],
   "source": [
    "ct = 0\n",
    "for dataId in valid_data_id:\n",
    "    ref_cat = butler.get(ref_name, dataId=dataId)\n",
    "    is_primary = ref_cat['detect_isPrimary']\n",
    "    is_star = ref_cat['base_ClassificationExtendedness_value'] < 0.99\n",
    "    valid = is_primary & is_star\n",
    "    data = ref_cat[valid]\n",
    "    pixel_number = hp.ang2pix(nside,\n",
    "                              np.degrees(data['coord_ra']),\n",
    "                              np.degrees(data['coord_dec']),\n",
    "                              lonlat=True)\n",
    "    pixel_counts[pixel_number]+=1\n",
    "    ct += 1\n",
    "    if ct %10 ==0:\n",
    "        print('ran %d of %d dataIds' % (ct, len(valid_data_id)))"
   ]
  },
  {
   "cell_type": "code",
   "execution_count": null,
   "metadata": {},
   "outputs": [],
   "source": []
  }
 ],
 "metadata": {
  "kernelspec": {
   "display_name": "LSST",
   "language": "python",
   "name": "lsst"
  },
  "language_info": {
   "codemirror_mode": {
    "name": "ipython",
    "version": 3
   },
   "file_extension": ".py",
   "mimetype": "text/x-python",
   "name": "python",
   "nbconvert_exporter": "python",
   "pygments_lexer": "ipython3",
   "version": "3.6.2"
  }
 },
 "nbformat": 4,
 "nbformat_minor": 2
}
